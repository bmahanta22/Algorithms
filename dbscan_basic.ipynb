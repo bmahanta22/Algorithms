{
 "cells": [
  {
   "cell_type": "code",
   "execution_count": null,
   "metadata": {},
   "outputs": [],
   "source": [
    "###importing modules\n",
    "from sklearn.datasets import make_blobs\n",
    "import pandas as pd\n",
    "import numpy as np\n"
   ]
  },
  {
   "cell_type": "code",
   "execution_count": null,
   "metadata": {},
   "outputs": [],
   "source": [
    "X,y = make_blobs(n_samples=10,n_features=2,centers=2,random_state=19) "
   ]
  },
  {
   "cell_type": "code",
   "execution_count": 1,
   "metadata": {},
   "outputs": [
    {
     "ename": "IndentationError",
     "evalue": "unindent does not match any outer indentation level (<ipython-input-1-e60fa0a13815>, line 30)",
     "output_type": "error",
     "traceback": [
      "\u001b[1;36m  File \u001b[1;32m\"<ipython-input-1-e60fa0a13815>\"\u001b[1;36m, line \u001b[1;32m30\u001b[0m\n\u001b[1;33m    c = 0\u001b[0m\n\u001b[1;37m          ^\u001b[0m\n\u001b[1;31mIndentationError\u001b[0m\u001b[1;31m:\u001b[0m unindent does not match any outer indentation level\n"
     ]
    }
   ],
   "source": [
    "##defining class\n",
    "class dbscan_try():\n",
    "    def __init__(self,X,eps,min_pts):\n",
    "        self.X = X\n",
    "        self.eps = eps\n",
    "        self.min_pts = min_pts\n",
    "        data = {\"points\":list(X),\"cluster\":[0]*X.shape[0]}\n",
    "        self.master_df = pd.DataFrame(data)\n",
    "    \n",
    "    def unclustered_data(self,p):\n",
    "        '''checking if the point is clustered or not'''\n",
    "        if self.master_df[\"cluster\"][p]==0:\n",
    "            return \"unclustered point\"\n",
    "        else:\n",
    "            return \"clustered point\"\n",
    "    \n",
    "    def nbd_points(self,p):\n",
    "        '''list of neighbourhood points of pth indexed point'''\n",
    "        nb_points = []\n",
    "        q = self.master_df[\"points\"][self.master_df.index != p]\n",
    "        for i in q.index:\n",
    "            d = np.linalg.norm(self.X[p]-q[i])\n",
    "            if (d<self.eps):\n",
    "                nb_points.append((i,d))  #index and distance\n",
    "        return nb_points    \n",
    "    \n",
    "    \n",
    "    def cluster(self):\n",
    "        '''updating cluster'''\n",
    "        c = 0 \n",
    "          for i in range(self.X.shape[0]):\n",
    "            un_data = self.unclustered_data(i)\n",
    "            if un_data == \"unclustered point\": \n",
    "                v = self.nbd_points(i)\n",
    "                if len(v)>=self.min_pts:\n",
    "                    c+=1\n",
    "                    self.master_df[\"cluster\"][i] = c\n",
    "                for j in range(len(v)):\n",
    "                    if self.unclustered_data(v[j][0]) == \"unclustered point\": \n",
    "                       self.master_df.iloc[v[j][0],1] = self.master_df.iloc[j,1]\n",
    "                    else:\n",
    "                          pass\n",
    "            else:\n",
    "                 self.master_df.iloc[i,1] = -1 ##outlier  \n",
    "   \n"
   ]
  },
  {
   "cell_type": "code",
   "execution_count": null,
   "metadata": {},
   "outputs": [],
   "source": [
    "db = dbscan_try(X,5,3)\n",
    "db.cluster()\n",
    "db.master_df"
   ]
  }
 ],
 "metadata": {
  "kernelspec": {
   "display_name": "Python 3",
   "language": "python",
   "name": "python3"
  },
  "language_info": {
   "codemirror_mode": {
    "name": "ipython",
    "version": 3
   },
   "file_extension": ".py",
   "mimetype": "text/x-python",
   "name": "python",
   "nbconvert_exporter": "python",
   "pygments_lexer": "ipython3",
   "version": "3.7.0"
  }
 },
 "nbformat": 4,
 "nbformat_minor": 2
}
