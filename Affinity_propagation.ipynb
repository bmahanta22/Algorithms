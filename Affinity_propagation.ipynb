{
 "cells": [
  {
   "cell_type": "code",
   "execution_count": 1,
   "metadata": {},
   "outputs": [],
   "source": [
    "import pandas as pd\n",
    "import numpy as np\n"
   ]
  },
  {
   "cell_type": "code",
   "execution_count": 2,
   "metadata": {},
   "outputs": [],
   "source": [
    "##creating a dataframe\n",
    "df = pd.DataFrame()\n",
    "\n",
    "df[\"participant\"] = [\"Alice\",\"Bob\",\"Cary\",\"Doug\",\"Edna\"]\n",
    "df[\"tax rate\"] = [3,4,3,2,1]\n",
    "df[\"fee\"] = [4,3,5,1,1]\n",
    "df[\"interest rate\"] = [3,5,3,3,3]\n",
    "df[\"quantity limit\"] = [2,1,3,3,2]\n",
    "df[\"price limit\"] = [1,1,3,2,3]\n"
   ]
  },
  {
   "cell_type": "code",
   "execution_count": 3,
   "metadata": {},
   "outputs": [
    {
     "name": "stderr",
     "output_type": "stream",
     "text": [
      "C:\\Users\\Birina Mahanta\\Anaconda3\\lib\\site-packages\\ipykernel_launcher.py:1: FutureWarning: Method .as_matrix will be removed in a future version. Use .values instead.\n",
      "  \"\"\"Entry point for launching an IPython kernel.\n"
     ]
    }
   ],
   "source": [
    "D = df.iloc[:,1:].as_matrix()  ##creating an array"
   ]
  },
  {
   "cell_type": "code",
   "execution_count": 4,
   "metadata": {},
   "outputs": [],
   "source": [
    "d = 0.8 #noise for ensuring convergence\n",
    "n = 200 ##number of iterations"
   ]
  },
  {
   "cell_type": "code",
   "execution_count": 5,
   "metadata": {},
   "outputs": [],
   "source": [
    "s_matrix = np.zeros(D.shape) ##similiarity matrix\n",
    "def similiarity_matrix():\n",
    "    ''' creating similiarity matrix '''\n",
    "    for i in range(D.shape[0]):\n",
    "        for j in range(D.shape[0]):\n",
    "            s_matrix[i,j]= -sum((D[i] - D[j])**2)\n",
    "    for i in range(D.shape[0]):\n",
    "        s_matrix[i,i]=s_matrix.min()\n",
    "    return s_matrix      \n",
    " "
   ]
  },
  {
   "cell_type": "code",
   "execution_count": 6,
   "metadata": {},
   "outputs": [],
   "source": [
    "a_matrix = np.zeros(D.shape) ##availability matrix          \n",
    "r_matrix = np.zeros(D.shape) ##responsibility matrix\n",
    "\n",
    "def responsibility_matrix():\n",
    "    ''' creating responsibility matrix'''\n",
    "    for i in range(D.shape[0]):\n",
    "        for k in range(D.shape[0]):\n",
    "            r_matrix[i,k] = s_matrix[i,k] - max(np.delete(a_matrix[i,:],k) + np.delete(s_matrix[i,:],k))\n",
    "    return r_matrix"
   ]
  },
  {
   "cell_type": "code",
   "execution_count": 7,
   "metadata": {},
   "outputs": [],
   "source": [
    "def availability_matrix():\n",
    "    ''' creating availability matrix'''\n",
    "    for i in range(D.shape[0]):\n",
    "        for k in range(D.shape[0]):\n",
    "           a = np.delete(r_matrix[:,k],[i,k])  ##deleting the kth column element\n",
    "           sum1 = 0\n",
    "           for j in range(a.shape[0]):\n",
    "               if a[j,]>=0:\n",
    "                   sum1 = sum1+a[j,]\n",
    "               else:\n",
    "                   sum1 = sum1 + 0\n",
    "           sum1 = r_matrix[k,k] + sum1\n",
    "           a_matrix[i,k] = min(0,sum1)\n",
    "           \n",
    "    for i in range(D.shape[0]):\n",
    "        a = np.delete(r_matrix[:,i],i)\n",
    "        sum2 = 0\n",
    "        for j in range(a.shape[0]):\n",
    "            if a[j,]>=0:\n",
    "                sum2 = sum2+a[j,]\n",
    "            else:\n",
    "                sum2 = sum2 + 0\n",
    "        a_matrix[i,i] = sum2         \n",
    "    return a_matrix\n"
   ]
  },
  {
   "cell_type": "code",
   "execution_count": 8,
   "metadata": {},
   "outputs": [],
   "source": [
    "c_matrix = np.zeros(D.shape)  ###criterian matrix\n",
    "\n",
    "def criterion_matrix():\n",
    "    c_matrix = r_matrix + a_matrix\n",
    "    return c_matrix"
   ]
  },
  {
   "cell_type": "code",
   "execution_count": 9,
   "metadata": {},
   "outputs": [],
   "source": [
    "for i in range(n):\n",
    "    similiarity_matrix()\n",
    "    if i==0: ###for the first iteration\n",
    "        responsibility_matrix()\n",
    "        availability_matrix()\n",
    "    else: ###for the later iterations\n",
    "        r_matrix = d*r_matrix + (1-d)*responsibility_matrix()\n",
    "        a_matrix = d*a_matrix +  (1-d)*availability_matrix()\n",
    "    criterion_matrix()\n",
    "    \n",
    "crit_m = criterion_matrix() "
   ]
  },
  {
   "cell_type": "code",
   "execution_count": 10,
   "metadata": {},
   "outputs": [
    {
     "name": "stdout",
     "output_type": "stream",
     "text": [
      "[0, 0, 0, 3, 3]\n"
     ]
    }
   ],
   "source": [
    "clusters = [list(crit_m[i,:]).index(max(list(crit_m[i,:]))) for i in range(D.shape[0])]\n",
    "\n",
    "print(clusters)"
   ]
  },
  {
   "cell_type": "code",
   "execution_count": null,
   "metadata": {},
   "outputs": [],
   "source": []
  }
 ],
 "metadata": {
  "kernelspec": {
   "display_name": "Python 3",
   "language": "python",
   "name": "python3"
  },
  "language_info": {
   "codemirror_mode": {
    "name": "ipython",
    "version": 3
   },
   "file_extension": ".py",
   "mimetype": "text/x-python",
   "name": "python",
   "nbconvert_exporter": "python",
   "pygments_lexer": "ipython3",
   "version": "3.7.0"
  }
 },
 "nbformat": 4,
 "nbformat_minor": 2
}
