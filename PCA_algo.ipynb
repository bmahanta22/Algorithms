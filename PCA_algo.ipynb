{
 "cells": [
  {
   "cell_type": "code",
   "execution_count": 1,
   "metadata": {},
   "outputs": [],
   "source": [
    "from sklearn.datasets import make_blobs\n",
    "import pandas as pd\n",
    "import numpy as np"
   ]
  },
  {
   "cell_type": "code",
   "execution_count": 2,
   "metadata": {},
   "outputs": [],
   "source": [
    "X,y = make_blobs(n_samples=50,n_features=10,centers=2,random_state=19) \n"
   ]
  },
  {
   "cell_type": "code",
   "execution_count": 5,
   "metadata": {},
   "outputs": [],
   "source": [
    "### defining class\n",
    "class PCA_t():\n",
    "    def __init__(self,X,k):\n",
    "        self.X = X\n",
    "        self.k = k\n",
    "    \n",
    "    def mu_X(self):\n",
    "        '''creating mean matrix'''\n",
    "        mu = np.zeros((self.X.shape[0],1))\n",
    "        for i in range(self.X.shape[0]):\n",
    "            mu[i] = (1/10)*sum(X[i])\n",
    "        return mu    \n",
    "    \n",
    "    def A_matrix(self):\n",
    "        m = self.mu_X()\n",
    "        a = self.X  - m\n",
    "        return a\n",
    "    \n",
    "    def var_cov(self):\n",
    "        '''creating the variance covariance matrix'''\n",
    "        A = self.A_matrix()\n",
    "        sig = (A.T.dot(A))/(self.X.shape[0])\n",
    "        return sig\n",
    "    \n",
    "    def final_matrix(self):\n",
    "        sig = self.var_cov()\n",
    "        eigvals,eigvecs = np.linalg.eig(sig) ##finding eigenvectors and eigenvalues\n",
    "        vec = eigvecs[:,:self.k]\n",
    "        Y = self.X.dot(vec)\n",
    "        return Y\n",
    "        "
   ]
  },
  {
   "cell_type": "code",
   "execution_count": 8,
   "metadata": {},
   "outputs": [
    {
     "data": {
      "text/plain": [
       "(50, 2)"
      ]
     },
     "execution_count": 8,
     "metadata": {},
     "output_type": "execute_result"
    }
   ],
   "source": [
    "### calling the class and functions\n",
    "p = PCA_t(X,k=2)\n",
    "k = p.final_matrix()\n",
    "k.shape"
   ]
  },
  {
   "cell_type": "code",
   "execution_count": null,
   "metadata": {},
   "outputs": [],
   "source": []
  }
 ],
 "metadata": {
  "kernelspec": {
   "display_name": "Python 3",
   "language": "python",
   "name": "python3"
  },
  "language_info": {
   "codemirror_mode": {
    "name": "ipython",
    "version": 3
   },
   "file_extension": ".py",
   "mimetype": "text/x-python",
   "name": "python",
   "nbconvert_exporter": "python",
   "pygments_lexer": "ipython3",
   "version": "3.7.0"
  }
 },
 "nbformat": 4,
 "nbformat_minor": 2
}
