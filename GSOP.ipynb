{
 "cells": [
  {
   "cell_type": "code",
   "execution_count": 1,
   "metadata": {},
   "outputs": [],
   "source": [
    "import numpy as np"
   ]
  },
  {
   "cell_type": "code",
   "execution_count": 5,
   "metadata": {},
   "outputs": [],
   "source": [
    "class GSOP(object):\n",
    "    def __init__(self,U):\n",
    "        self.U = U\n",
    "        \n",
    "    def projection_compute(self,u,v):\n",
    "        '''\n",
    "        Compute the projection of one vector here\n",
    "        '''\n",
    "        proj = (np.dot(u,v)/np.dot(v,v))*v\n",
    "        return proj\n",
    "    \n",
    "    def final_projected_matrix(self):\n",
    "        '''\n",
    "            Find the final projected matrix containing orthonormal vectors\n",
    "            '''\n",
    "        V = np.zeros(self.U.shape)   \n",
    "        N = np.zeros(self.U.shape)\n",
    "        for i in range(self.U.shape[0]):\n",
    "            if i > 0:\n",
    "                c = 0\n",
    "                for j in range(i):\n",
    "                    p = self.projection_compute(U[i],V[j])\n",
    "                    c = c+p\n",
    "                V[i] = U[i] - c\n",
    "            else:        \n",
    "                V[i]=self.U[i]\n",
    "        for i in range(len(self.U)):\n",
    "            N[i]=V[i]/((V[i].dot(V[i]))**0.5)\n",
    "        return N   "
   ]
  },
  {
   "cell_type": "code",
   "execution_count": 6,
   "metadata": {},
   "outputs": [
    {
     "data": {
      "text/plain": [
       "array([[ 0.9486833 ,  0.31622777],\n",
       "       [-0.31622777,  0.9486833 ]])"
      ]
     },
     "execution_count": 6,
     "metadata": {},
     "output_type": "execute_result"
    }
   ],
   "source": [
    "U = np.array([[3,1],[2,2]]) \n",
    "G = GSOP(U)\n",
    "G.final_projected_matrix()"
   ]
  },
  {
   "cell_type": "code",
   "execution_count": null,
   "metadata": {},
   "outputs": [],
   "source": []
  }
 ],
 "metadata": {
  "kernelspec": {
   "display_name": "Python 3",
   "language": "python",
   "name": "python3"
  },
  "language_info": {
   "codemirror_mode": {
    "name": "ipython",
    "version": 3
   },
   "file_extension": ".py",
   "mimetype": "text/x-python",
   "name": "python",
   "nbconvert_exporter": "python",
   "pygments_lexer": "ipython3",
   "version": "3.7.0"
  }
 },
 "nbformat": 4,
 "nbformat_minor": 2
}
